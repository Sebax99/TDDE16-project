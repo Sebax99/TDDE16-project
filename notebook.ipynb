{
 "cells": [
  {
   "attachments": {},
   "cell_type": "markdown",
   "metadata": {},
   "source": [
    "# Imports"
   ]
  },
  {
   "cell_type": "code",
   "execution_count": 54,
   "metadata": {},
   "outputs": [],
   "source": [
    "import pandas as pd\n",
    "import numpy as np\n",
    "import time\n",
    "\n",
    "from sklearn.pipeline import Pipeline\n",
    "from sklearn.feature_extraction.text import CountVectorizer, TfidfVectorizer\n",
    "from sklearn.naive_bayes import MultinomialNB\n",
    "from sklearn.metrics import classification_report, confusion_matrix\n",
    "\n",
    "from sklearn.neural_network import MLPClassifier\n",
    "from sklearn.metrics import accuracy_score, f1_score"
   ]
  },
  {
   "attachments": {},
   "cell_type": "markdown",
   "metadata": {},
   "source": [
    "# Load Data"
   ]
  },
  {
   "cell_type": "code",
   "execution_count": 55,
   "metadata": {},
   "outputs": [
    {
     "name": "stdout",
     "output_type": "stream",
     "text": [
      "0    34407\n",
      "1    27940\n",
      "Name: label, dtype: int64\n"
     ]
    },
    {
     "data": {
      "text/html": [
       "<div>\n",
       "<style scoped>\n",
       "    .dataframe tbody tr th:only-of-type {\n",
       "        vertical-align: middle;\n",
       "    }\n",
       "\n",
       "    .dataframe tbody tr th {\n",
       "        vertical-align: top;\n",
       "    }\n",
       "\n",
       "    .dataframe thead th {\n",
       "        text-align: right;\n",
       "    }\n",
       "</style>\n",
       "<table border=\"1\" class=\"dataframe\">\n",
       "  <thead>\n",
       "    <tr style=\"text-align: right;\">\n",
       "      <th></th>\n",
       "      <th>Unnamed: 0</th>\n",
       "      <th>title</th>\n",
       "      <th>text</th>\n",
       "      <th>label</th>\n",
       "    </tr>\n",
       "  </thead>\n",
       "  <tbody>\n",
       "    <tr>\n",
       "      <th>0</th>\n",
       "      <td>0</td>\n",
       "      <td>LAW ENFORCEMENT ON HIGH ALERT Following Threat...</td>\n",
       "      <td>No comment is expected from Barack Obama Membe...</td>\n",
       "      <td>1</td>\n",
       "    </tr>\n",
       "    <tr>\n",
       "      <th>1</th>\n",
       "      <td>2</td>\n",
       "      <td>UNBELIEVABLE! OBAMA’S ATTORNEY GENERAL SAYS MO...</td>\n",
       "      <td>Now, most of the demonstrators gathered last ...</td>\n",
       "      <td>1</td>\n",
       "    </tr>\n",
       "    <tr>\n",
       "      <th>2</th>\n",
       "      <td>3</td>\n",
       "      <td>Bobby Jindal, raised Hindu, uses story of Chri...</td>\n",
       "      <td>A dozen politically active pastors came here f...</td>\n",
       "      <td>0</td>\n",
       "    </tr>\n",
       "    <tr>\n",
       "      <th>3</th>\n",
       "      <td>4</td>\n",
       "      <td>SATAN 2: Russia unvelis an image of its terrif...</td>\n",
       "      <td>The RS-28 Sarmat missile, dubbed Satan 2, will...</td>\n",
       "      <td>1</td>\n",
       "    </tr>\n",
       "    <tr>\n",
       "      <th>4</th>\n",
       "      <td>5</td>\n",
       "      <td>About Time! Christian Group Sues Amazon and SP...</td>\n",
       "      <td>All we can say on this one is it s about time ...</td>\n",
       "      <td>1</td>\n",
       "    </tr>\n",
       "  </tbody>\n",
       "</table>\n",
       "</div>"
      ],
      "text/plain": [
       "   Unnamed: 0                                              title  \\\n",
       "0           0  LAW ENFORCEMENT ON HIGH ALERT Following Threat...   \n",
       "1           2  UNBELIEVABLE! OBAMA’S ATTORNEY GENERAL SAYS MO...   \n",
       "2           3  Bobby Jindal, raised Hindu, uses story of Chri...   \n",
       "3           4  SATAN 2: Russia unvelis an image of its terrif...   \n",
       "4           5  About Time! Christian Group Sues Amazon and SP...   \n",
       "\n",
       "                                                text  label  \n",
       "0  No comment is expected from Barack Obama Membe...      1  \n",
       "1   Now, most of the demonstrators gathered last ...      1  \n",
       "2  A dozen politically active pastors came here f...      0  \n",
       "3  The RS-28 Sarmat missile, dubbed Satan 2, will...      1  \n",
       "4  All we can say on this one is it s about time ...      1  "
      ]
     },
     "execution_count": 55,
     "metadata": {},
     "output_type": "execute_result"
    }
   ],
   "source": [
    "small_df = False\n",
    "df = pd.read_csv('data/WELFake_Dataset.csv')\n",
    "# df = pd.read_csv('data/kaggle.csv')\n",
    "\n",
    "\n",
    "df = df.dropna(subset='title') # Remove NaN\n",
    "df = df.drop_duplicates(subset='title') # Remove duplicates\n",
    "df = df.reset_index(drop=True) # Reset index\n",
    "\n",
    "# Subset of the original dataset if a smaller dataset is wanted\n",
    "from math import trunc\n",
    "if small_df:\n",
    "    df = df.iloc[range(0, trunc(len(df['label'].values)*0.1))]\n",
    "\n",
    "print(df['label'].value_counts())\n",
    "df.head()\n"
   ]
  },
  {
   "attachments": {},
   "cell_type": "markdown",
   "metadata": {},
   "source": [
    "### Checking the maximum and minimum amount of words in the titles"
   ]
  },
  {
   "cell_type": "code",
   "execution_count": 56,
   "metadata": {},
   "outputs": [
    {
     "name": "stdout",
     "output_type": "stream",
     "text": [
      "Max word count: 72\n",
      "Min word count: 1\n"
     ]
    }
   ],
   "source": [
    "max_len = 0\n",
    "min_len = 10000\n",
    "for text in df['title']:\n",
    "    vec = text.split(' ')\n",
    "    max_len = max(max_len, len(vec))\n",
    "    min_len = min(min_len, len(vec))\n",
    "print('Max word count: {}'.format(max_len),\n",
    "      'Min word count: {}'.format(min_len),\n",
    "      sep='\\n')"
   ]
  },
  {
   "attachments": {},
   "cell_type": "markdown",
   "metadata": {},
   "source": [
    "### Distribution of Fake vs Real"
   ]
  },
  {
   "cell_type": "code",
   "execution_count": 57,
   "metadata": {},
   "outputs": [
    {
     "name": "stdout",
     "output_type": "stream",
     "text": [
      "Real: 55.19 % | Fake: 44.81 %\n"
     ]
    }
   ],
   "source": [
    "nr_fake = np.sum(df['label'])\n",
    "total = len(df['label'])\n",
    "print('Real: {:.2f} % | Fake: {:.2f} %'.format((1-nr_fake/total)*100, (nr_fake/total)*100))"
   ]
  },
  {
   "attachments": {},
   "cell_type": "markdown",
   "metadata": {},
   "source": [
    "### Split data"
   ]
  },
  {
   "cell_type": "code",
   "execution_count": 58,
   "metadata": {},
   "outputs": [
    {
     "name": "stdout",
     "output_type": "stream",
     "text": [
      "Training data\n",
      "0    26792\n",
      "1    23085\n",
      "Name: label, dtype: int64\n",
      "\n",
      "\n",
      "Testing data\n",
      "0    7615\n",
      "1    4855\n",
      "Name: label, dtype: int64\n"
     ]
    }
   ],
   "source": [
    "from sklearn.model_selection import train_test_split\n",
    "\n",
    "train_df, test_df = train_test_split(df, test_size=0.2, shuffle=False)\n",
    "train_df, test_df = train_df.reset_index(), test_df.reset_index()\n",
    "print('Training data',\n",
    "      train_df['label'].value_counts(),\n",
    "      '\\n',\n",
    "      'Testing data',\n",
    "      test_df['label'].value_counts(),\n",
    "      sep='\\n')\n"
   ]
  },
  {
   "attachments": {},
   "cell_type": "markdown",
   "metadata": {},
   "source": [
    "# Loading spaCy's language models"
   ]
  },
  {
   "cell_type": "code",
   "execution_count": 59,
   "metadata": {},
   "outputs": [],
   "source": [
    "import spacy\n",
    "nlp = spacy.load('en_core_web_sm')\n",
    "\n",
    "TF_ENABLE_ONEDNN_OPTS=0"
   ]
  },
  {
   "attachments": {},
   "cell_type": "markdown",
   "metadata": {},
   "source": [
    "# Preprocess functions"
   ]
  },
  {
   "cell_type": "code",
   "execution_count": 60,
   "metadata": {},
   "outputs": [],
   "source": [
    "def preprocess(text):\n",
    "    doc = nlp(text)\n",
    "    return [token.lemma_ for token in doc if not token.is_stop and token.is_alpha]\n"
   ]
  },
  {
   "attachments": {},
   "cell_type": "markdown",
   "metadata": {},
   "source": [
    "### Preprocessing data"
   ]
  },
  {
   "cell_type": "code",
   "execution_count": 36,
   "metadata": {},
   "outputs": [],
   "source": [
    "x_train = [' '.join(preprocess(sent)) for sent in train_df['title']]\n",
    "x_test = [' '.join(preprocess(sent)) for sent in test_df['title']]"
   ]
  },
  {
   "attachments": {},
   "cell_type": "markdown",
   "metadata": {},
   "source": [
    "# Naive Bayes"
   ]
  },
  {
   "attachments": {},
   "cell_type": "markdown",
   "metadata": {},
   "source": [
    "### Fit vectorizer"
   ]
  },
  {
   "cell_type": "code",
   "execution_count": 47,
   "metadata": {},
   "outputs": [
    {
     "data": {
      "text/plain": [
       "<39901x2000 sparse matrix of type '<class 'numpy.float64'>'\n",
       "\twith 251384 stored elements in Compressed Sparse Row format>"
      ]
     },
     "execution_count": 47,
     "metadata": {},
     "output_type": "execute_result"
    }
   ],
   "source": [
    "# TODO find out why gridsearch is not working with the tokenizer=preprocess\n",
    "vect = TfidfVectorizer(max_features=2000)\n",
    "vect.fit_transform(x_train)"
   ]
  },
  {
   "attachments": {},
   "cell_type": "markdown",
   "metadata": {},
   "source": [
    "### Grid search to find best Naive Bayes classifier (for this task)"
   ]
  },
  {
   "cell_type": "code",
   "execution_count": 48,
   "metadata": {},
   "outputs": [
    {
     "name": "stdout",
     "output_type": "stream",
     "text": [
      "Testing following alpha values: [0.5, 1.0, 1.5, 2.0, 2.5, 3.0, 3.5, 4.0, 4.5]\n",
      "Fitting 5 folds for each of 9 candidates, totalling 45 fits\n",
      "Pipeline(steps=[('vectorizer', TfidfVectorizer(max_features=2000)),\n",
      "                ('mnb', MultinomialNB(alpha=2.5, force_alpha=True))])\n",
      "              precision    recall  f1-score   support\n",
      "\n",
      "           0       0.88      0.87      0.88      7615\n",
      "           1       0.80      0.82      0.81      4855\n",
      "\n",
      "    accuracy                           0.85     12470\n",
      "   macro avg       0.84      0.84      0.84     12470\n",
      "weighted avg       0.85      0.85      0.85     12470\n",
      "\n"
     ]
    }
   ],
   "source": [
    "from sklearn.model_selection import GridSearchCV\n",
    "mnb = MultinomialNB(force_alpha=True)\n",
    "pipeline = Pipeline([('vectorizer', vect), ('mnb', mnb)])\n",
    "\n",
    "alpha_values = [n / 10 for n in list(range(5, 50, 5))]\n",
    "print('Testing following alpha values: {}'.format(alpha_values))\n",
    "param = [{'mnb__alpha': alpha_values}]\n",
    "\n",
    "cv = GridSearchCV(pipeline, param, n_jobs=1, verbose=1)\n",
    "cv.fit(x_train, train_df['label'])\n",
    "\n",
    "# print(pd.DataFrame(cv.cv_results_))\n",
    "mnb_best = cv.best_estimator_\n",
    "print(mnb_best)\n",
    "y_preds = mnb_best.predict(x_test)\n",
    "print(classification_report(test_df['label'], y_preds))"
   ]
  },
  {
   "cell_type": "code",
   "execution_count": 61,
   "metadata": {},
   "outputs": [
    {
     "name": "stdout",
     "output_type": "stream",
     "text": [
      "Accuracy: 84.96 %\n",
      "F1 score: 0.81\n"
     ]
    }
   ],
   "source": [
    "print('Accuracy: {:.2f} %'.format(100*accuracy_score(test_df['label'], y_preds)),\n",
    "      'F1 score: {:.2f}'.format(f1_score(test_df['label'], y_preds)),\n",
    "      sep='\\n')"
   ]
  },
  {
   "attachments": {},
   "cell_type": "markdown",
   "metadata": {},
   "source": [
    "# RNN, LSTM and BiLSTM"
   ]
  },
  {
   "attachments": {},
   "cell_type": "markdown",
   "metadata": {},
   "source": [
    "### Dividing train data into development data and train data"
   ]
  },
  {
   "cell_type": "code",
   "execution_count": 62,
   "metadata": {},
   "outputs": [
    {
     "name": "stdout",
     "output_type": "stream",
     "text": [
      "Training data\n",
      "0    20926\n",
      "1    18975\n",
      "Name: label, dtype: int64\n",
      "\n",
      "\n",
      "Development data\n",
      "0    5866\n",
      "1    4110\n",
      "Name: label, dtype: int64\n"
     ]
    }
   ],
   "source": [
    "train_df, dev_df = train_test_split(train_df, test_size=0.2, shuffle=False)\n",
    "train_df, dev_df = train_df.reset_index(), dev_df.reset_index()\n",
    "\n",
    "print('Training data',\n",
    "      train_df['label'].value_counts(),\n",
    "      '\\n',\n",
    "      'Development data',\n",
    "      dev_df['label'].value_counts(),\n",
    "      sep='\\n')"
   ]
  },
  {
   "attachments": {},
   "cell_type": "markdown",
   "metadata": {},
   "source": [
    "### Pre-process data"
   ]
  },
  {
   "cell_type": "code",
   "execution_count": 63,
   "metadata": {},
   "outputs": [],
   "source": [
    "import tensorflow as tf"
   ]
  },
  {
   "cell_type": "code",
   "execution_count": 64,
   "metadata": {},
   "outputs": [],
   "source": [
    "x_train = [' '.join(preprocess(sent)) for sent in train_df['title']]\n",
    "x_dev = [' '.join(preprocess(sent)) for sent in dev_df['title']]\n",
    "x_test = [' '.join(preprocess(sent)) for sent in test_df['title']]"
   ]
  },
  {
   "attachments": {},
   "cell_type": "markdown",
   "metadata": {},
   "source": [
    "### Tokenize the documments based on the training set (and padding to fixed length)"
   ]
  },
  {
   "cell_type": "code",
   "execution_count": 65,
   "metadata": {},
   "outputs": [],
   "source": [
    "# Tokenizing\n",
    "tokenizer = tf.keras.preprocessing.text.Tokenizer()\n",
    "tokenizer.fit_on_texts(x_train)\n",
    "token_train = tokenizer.texts_to_sequences(x_train)\n",
    "token_dev = tokenizer.texts_to_sequences(x_dev)\n",
    "token_test = tokenizer.texts_to_sequences(x_test)\n",
    "\n",
    "# Padding \n",
    "feature_size = 100\n",
    "token_train = tf.keras.preprocessing.sequence.pad_sequences(token_train, feature_size)\n",
    "token_dev = tf.keras.preprocessing.sequence.pad_sequences(token_train, feature_size)\n",
    "token_test = tf.keras.preprocessing.sequence.pad_sequences(token_test, feature_size)"
   ]
  },
  {
   "attachments": {},
   "cell_type": "markdown",
   "metadata": {},
   "source": [
    "### Defining RNN"
   ]
  },
  {
   "cell_type": "code",
   "execution_count": null,
   "metadata": {},
   "outputs": [
    {
     "name": "stdout",
     "output_type": "stream",
     "text": [
      "Model: \"sequential_1\"\n",
      "_________________________________________________________________\n",
      " Layer (type)                Output Shape              Param #   \n",
      "=================================================================\n",
      " embedding_2 (Embedding)     (None, 100, 100)          2534700   \n",
      "                                                                 \n",
      " simple_rnn_1 (SimpleRNN)    (None, 100)               20100     \n",
      "                                                                 \n",
      " dropout_1 (Dropout)         (None, 100)               0         \n",
      "                                                                 \n",
      " dense_1 (Dense)             (None, 1)                 101       \n",
      "                                                                 \n",
      "=================================================================\n",
      "Total params: 2,554,901\n",
      "Trainable params: 2,554,901\n",
      "Non-trainable params: 0\n",
      "_________________________________________________________________\n",
      "None\n"
     ]
    }
   ],
   "source": [
    "# RNN\n",
    "vocab_size = len(tokenizer.word_index)\n",
    "embedding_vector_features = 100\n",
    "model = tf.keras.models.Sequential([\n",
    "    tf.keras.layers.Input(name='inputs', shape=[feature_size]),\n",
    "    tf.keras.layers.Embedding(vocab_size+1, embedding_vector_features, input_length=feature_size),\n",
    "    tf.keras.layers.SimpleRNN(embedding_vector_features),\n",
    "    tf.keras.layers.Dropout(0.5),\n",
    "    tf.keras.layers.Dense(1, activation='sigmoid')\n",
    "])\n",
    "model.compile(loss=tf.keras.losses.BinaryCrossentropy(),\n",
    "                   optimizer=tf.keras.optimizers.Adam(learning_rate=1e-4),\n",
    "                   metrics=['accuracy'])\n",
    "print(model.summary())"
   ]
  },
  {
   "attachments": {},
   "cell_type": "markdown",
   "metadata": {},
   "source": [
    "### Defining LSTM"
   ]
  },
  {
   "cell_type": "code",
   "execution_count": 57,
   "metadata": {},
   "outputs": [
    {
     "name": "stdout",
     "output_type": "stream",
     "text": [
      "Model: \"sequential_8\"\n",
      "_________________________________________________________________\n",
      " Layer (type)                Output Shape              Param #   \n",
      "=================================================================\n",
      " embedding_8 (Embedding)     (None, 1000, 100)         2534700   \n",
      "                                                                 \n",
      " lstm_8 (LSTM)               (None, 100)               80400     \n",
      "                                                                 \n",
      " dropout_8 (Dropout)         (None, 100)               0         \n",
      "                                                                 \n",
      " dense_8 (Dense)             (None, 1)                 101       \n",
      "                                                                 \n",
      "=================================================================\n",
      "Total params: 2,615,201\n",
      "Trainable params: 2,615,201\n",
      "Non-trainable params: 0\n",
      "_________________________________________________________________\n",
      "None\n"
     ]
    }
   ],
   "source": [
    "# LSTM\n",
    "vocab_size = len(tokenizer.word_index)\n",
    "embedding_vector_features = 100\n",
    "model = tf.keras.models.Sequential([\n",
    "    tf.keras.layers.Input(name='inputs', shape=[feature_size]),\n",
    "    tf.keras.layers.Embedding(vocab_size+1, embedding_vector_features, input_length=feature_size),\n",
    "    tf.keras.layers.LSTM(embedding_vector_features),\n",
    "    tf.keras.layers.Dropout(0.5),\n",
    "    tf.keras.layers.Dense(1, activation='sigmoid')\n",
    "])\n",
    "model.compile(loss=tf.keras.losses.BinaryCrossentropy(),\n",
    "                   optimizer=tf.keras.optimizers.Adam(1e-4),\n",
    "                   metrics=['accuracy'])\n",
    "print(model.summary())"
   ]
  },
  {
   "attachments": {},
   "cell_type": "markdown",
   "metadata": {},
   "source": [
    "### Defining BiLSTM"
   ]
  },
  {
   "cell_type": "code",
   "execution_count": 13,
   "metadata": {},
   "outputs": [
    {
     "name": "stderr",
     "output_type": "stream",
     "text": [
      "2023-01-11 23:13:38.786821: I tensorflow/core/platform/cpu_feature_guard.cc:193] This TensorFlow binary is optimized with oneAPI Deep Neural Network Library (oneDNN) to use the following CPU instructions in performance-critical operations:  AVX2 AVX_VNNI FMA\n",
      "To enable them in other operations, rebuild TensorFlow with the appropriate compiler flags.\n"
     ]
    },
    {
     "name": "stdout",
     "output_type": "stream",
     "text": [
      "Model: \"sequential\"\n",
      "_________________________________________________________________\n",
      " Layer (type)                Output Shape              Param #   \n",
      "=================================================================\n",
      " embedding (Embedding)       (None, 100, 100)          2534700   \n",
      "                                                                 \n",
      " bidirectional (Bidirectiona  (None, 200)              160800    \n",
      " l)                                                              \n",
      "                                                                 \n",
      " dropout (Dropout)           (None, 200)               0         \n",
      "                                                                 \n",
      " dense (Dense)               (None, 1)                 201       \n",
      "                                                                 \n",
      "=================================================================\n",
      "Total params: 2,695,701\n",
      "Trainable params: 2,695,701\n",
      "Non-trainable params: 0\n",
      "_________________________________________________________________\n",
      "None\n"
     ]
    }
   ],
   "source": [
    "from tensorflow.keras.layers import Bidirectional\n",
    "\n",
    "vocab_size = len(tokenizer.word_index)\n",
    "embedding_vector_features = 100\n",
    "model = tf.keras.models.Sequential([\n",
    "    tf.keras.layers.Input(name='inputs', shape=[feature_size]),\n",
    "    tf.keras.layers.Embedding(vocab_size+1, embedding_vector_features, input_length=feature_size),\n",
    "    Bidirectional(tf.keras.layers.LSTM(embedding_vector_features)),\n",
    "    tf.keras.layers.Dropout(0.5),\n",
    "    tf.keras.layers.Dense(1, activation='sigmoid')\n",
    "])\n",
    "model.compile(loss=tf.keras.losses.BinaryCrossentropy(),\n",
    "                   optimizer=tf.keras.optimizers.Adam(learning_rate=1e-4),\n",
    "                   metrics=['accuracy'])\n",
    "print(model.summary())"
   ]
  },
  {
   "attachments": {},
   "cell_type": "markdown",
   "metadata": {},
   "source": [
    "## Train models"
   ]
  },
  {
   "cell_type": "code",
   "execution_count": 14,
   "metadata": {},
   "outputs": [
    {
     "name": "stdout",
     "output_type": "stream",
     "text": [
      "Epoch 1/15\n",
      "780/780 [==============================] - 56s 70ms/step - loss: 0.4862 - accuracy: 0.7456 - val_loss: 0.3152 - val_accuracy: 0.8694\n",
      "Epoch 2/15\n",
      "780/780 [==============================] - 55s 70ms/step - loss: 0.2729 - accuracy: 0.8887 - val_loss: 0.2576 - val_accuracy: 0.8905\n",
      "Epoch 3/15\n",
      "780/780 [==============================] - 55s 71ms/step - loss: 0.2191 - accuracy: 0.9135 - val_loss: 0.2466 - val_accuracy: 0.8966\n",
      "Epoch 4/15\n",
      "780/780 [==============================] - 55s 71ms/step - loss: 0.1900 - accuracy: 0.9260 - val_loss: 0.2423 - val_accuracy: 0.8968\n",
      "Epoch 5/15\n",
      "780/780 [==============================] - 55s 71ms/step - loss: 0.1671 - accuracy: 0.9377 - val_loss: 0.2473 - val_accuracy: 0.8981\n",
      "Epoch 6/15\n",
      "780/780 [==============================] - 55s 71ms/step - loss: 0.1478 - accuracy: 0.9452 - val_loss: 0.2515 - val_accuracy: 0.8963\n",
      "Epoch 7/15\n",
      "780/780 [==============================] - 56s 71ms/step - loss: 0.1342 - accuracy: 0.9512 - val_loss: 0.2642 - val_accuracy: 0.8947\n",
      "Epoch 8/15\n",
      "780/780 [==============================] - 56s 71ms/step - loss: 0.1193 - accuracy: 0.9570 - val_loss: 0.2820 - val_accuracy: 0.8951\n",
      "Epoch 9/15\n",
      "780/780 [==============================] - 55s 70ms/step - loss: 0.1090 - accuracy: 0.9605 - val_loss: 0.3061 - val_accuracy: 0.8933\n",
      "Epoch 10/15\n",
      "780/780 [==============================] - 54s 70ms/step - loss: 0.1010 - accuracy: 0.9644 - val_loss: 0.2931 - val_accuracy: 0.8903\n",
      "Epoch 11/15\n",
      "780/780 [==============================] - 54s 70ms/step - loss: 0.0926 - accuracy: 0.9667 - val_loss: 0.3120 - val_accuracy: 0.8895\n",
      "Epoch 12/15\n",
      "780/780 [==============================] - 54s 70ms/step - loss: 0.0856 - accuracy: 0.9703 - val_loss: 0.3338 - val_accuracy: 0.8904\n",
      "Epoch 13/15\n",
      "780/780 [==============================] - 54s 70ms/step - loss: 0.0787 - accuracy: 0.9728 - val_loss: 0.3611 - val_accuracy: 0.8903\n",
      "Epoch 14/15\n",
      "780/780 [==============================] - 55s 70ms/step - loss: 0.0727 - accuracy: 0.9748 - val_loss: 0.3573 - val_accuracy: 0.8843\n",
      "Epoch 15/15\n",
      "780/780 [==============================] - 55s 70ms/step - loss: 0.0679 - accuracy: 0.9765 - val_loss: 0.3633 - val_accuracy: 0.8881\n"
     ]
    }
   ],
   "source": [
    "history = model.fit(token_train, train_df['label'], validation_data=(token_dev, dev_df['label']), \n",
    "                        epochs=15, \n",
    "                        batch_size=64)"
   ]
  },
  {
   "attachments": {},
   "cell_type": "markdown",
   "metadata": {},
   "source": [
    "## Evaluate models"
   ]
  },
  {
   "cell_type": "code",
   "execution_count": 16,
   "metadata": {},
   "outputs": [
    {
     "name": "stdout",
     "output_type": "stream",
     "text": [
      "390/390 [==============================] - 6s 15ms/step\n",
      "              precision    recall  f1-score   support\n",
      "\n",
      "           0       0.91      0.90      0.91      7615\n",
      "           1       0.85      0.87      0.86      4855\n",
      "\n",
      "    accuracy                           0.89     12470\n",
      "   macro avg       0.88      0.88      0.88     12470\n",
      "weighted avg       0.89      0.89      0.89     12470\n",
      "\n"
     ]
    },
    {
     "data": {
      "text/plain": [
       "array([[6858,  757],\n",
       "       [ 639, 4216]])"
      ]
     },
     "execution_count": 16,
     "metadata": {},
     "output_type": "execute_result"
    }
   ],
   "source": [
    "y_pred = model.predict(token_test)\n",
    "y_pred = np.where(y_pred >= 0.5, 1, 0)\n",
    "\n",
    "print(classification_report(test_df['label'], y_pred))\n",
    "confusion_matrix(test_df['label'], y_pred)\n"
   ]
  },
  {
   "attachments": {},
   "cell_type": "markdown",
   "metadata": {},
   "source": [
    "## Loss curve"
   ]
  },
  {
   "cell_type": "code",
   "execution_count": 15,
   "metadata": {},
   "outputs": [
    {
     "name": "stdout",
     "output_type": "stream",
     "text": [
      "Model: \"sequential\"\n",
      "_________________________________________________________________\n",
      " Layer (type)                Output Shape              Param #   \n",
      "=================================================================\n",
      " embedding (Embedding)       (None, 100, 100)          2534700   \n",
      "                                                                 \n",
      " bidirectional (Bidirectiona  (None, 200)              160800    \n",
      " l)                                                              \n",
      "                                                                 \n",
      " dropout (Dropout)           (None, 200)               0         \n",
      "                                                                 \n",
      " dense (Dense)               (None, 1)                 201       \n",
      "                                                                 \n",
      "=================================================================\n",
      "Total params: 2,695,701\n",
      "Trainable params: 2,695,701\n",
      "Non-trainable params: 0\n",
      "_________________________________________________________________\n",
      "None\n"
     ]
    },
    {
     "data": {
      "image/png": "[encoded data removed]",
      "text/plain": [
       "<Figure size 640x480 with 1 Axes>"
      ]
     },
     "metadata": {},
     "output_type": "display_data"
    },
    {
     "data": {
      "image/png": "[encoded data removed]",
      "text/plain": [
       "<Figure size 640x480 with 1 Axes>"
      ]
     },
     "metadata": {},
     "output_type": "display_data"
    }
   ],
   "source": [
    "import matplotlib.pyplot as plt\n",
    "def plot_history(history, metric):\n",
    "    assert type(history) is dict, 'history needs to be a dict'\n",
    "    plt.plot(history[metric])\n",
    "    plt.plot(history['val_{}'.format(metric)])\n",
    "    plt.xlabel('epochs')\n",
    "    plt.ylabel(metric)\n",
    "    plt.legend([metric, 'valid. {}'.format(metric)])\n",
    "\n",
    "plt.figure()\n",
    "plot_history(history.history, 'accuracy')\n",
    "plt.figure()\n",
    "plot_history(history.history, 'loss')\n",
    "print(model.summary())\n",
    "\n"
   ]
  },
  {
   "attachments": {},
   "cell_type": "markdown",
   "metadata": {},
   "source": [
    "### Save model"
   ]
  },
  {
   "cell_type": "code",
   "execution_count": 17,
   "metadata": {},
   "outputs": [
    {
     "name": "stderr",
     "output_type": "stream",
     "text": [
      "WARNING:absl:Found untraced functions such as _update_step_xla, lstm_cell_1_layer_call_fn, lstm_cell_1_layer_call_and_return_conditional_losses, lstm_cell_2_layer_call_fn, lstm_cell_2_layer_call_and_return_conditional_losses while saving (showing 5 of 5). These functions will not be directly callable after loading.\n"
     ]
    },
    {
     "name": "stdout",
     "output_type": "stream",
     "text": [
      "INFO:tensorflow:Assets written to: savedmodels/bilstm_5/assets\n"
     ]
    },
    {
     "name": "stderr",
     "output_type": "stream",
     "text": [
      "INFO:tensorflow:Assets written to: savedmodels/bilstm_5/assets\n"
     ]
    }
   ],
   "source": [
    "import json\n",
    "def save_model(model_name, model, history):\n",
    "    assert type(history) is dict, 'history needs to be a dict'\n",
    "    model.save('savedmodels/models/' + model_name)\n",
    "    with open('savedmodels/model_info/{}.json'.format(model_name), 'w') as f:\n",
    "        json.dump(history, f)\n",
    "\n",
    "save_model('bilstm_', model, history.history)"
   ]
  },
  {
   "attachments": {},
   "cell_type": "markdown",
   "metadata": {},
   "source": [
    "# Load Model for evaluation"
   ]
  },
  {
   "cell_type": "code",
   "execution_count": 71,
   "metadata": {},
   "outputs": [
    {
     "name": "stdout",
     "output_type": "stream",
     "text": [
      "390/390 [==============================] - 2s 6ms/step\n",
      "rnn_1\n",
      "Accuracy: 88.02\n",
      "F1 score: 0.85\n",
      "\n",
      "\n",
      "390/390 [==============================] - 5s 11ms/step\n",
      "lstm_1\n",
      "Accuracy: 88.35\n",
      "F1 score: 0.85\n",
      "\n",
      "\n",
      "390/390 [==============================] - 7s 16ms/step\n",
      "bilstm_3\n",
      "Accuracy: 88.83\n",
      "F1 score: 0.86\n",
      "\n",
      "\n"
     ]
    }
   ],
   "source": [
    "model_names = ['rnn_1', 'lstm_1', 'bilstm_3']\n",
    "for model_name in model_names:\n",
    "      model = tf.keras.models.load_model('savedmodels/models/' + model_name)\n",
    "\n",
    "      y_pred = model.predict(token_test)\n",
    "      y_pred = np.where(y_pred >= 0.5, 1, 0)\n",
    "      print(model_name)\n",
    "      print('Accuracy: {:.2f}'.format(100*accuracy_score(test_df['label'], y_pred)),\n",
    "            'F1 score: {:.2f}'.format(f1_score(test_df['label'], y_pred)),\n",
    "            sep='\\n')\n",
    "      print('\\n')\n",
    "\n"
   ]
  }
 ],
 "metadata": {
  "kernelspec": {
   "display_name": "Python 3.8.10 ('env': venv)",
   "language": "python",
   "name": "python3"
  },
  "language_info": {
   "codemirror_mode": {
    "name": "ipython",
    "version": 3
   },
   "file_extension": ".py",
   "mimetype": "text/x-python",
   "name": "python",
   "nbconvert_exporter": "python",
   "pygments_lexer": "ipython3",
   "version": "3.8.10"
  },
  "orig_nbformat": 4,
  "vscode": {
   "interpreter": {
    "hash": "2799b17dd9d52698bd77de98597f14f9e06f0293cf3a7d34d6547a84d526b00d"
   }
  }
 },
 "nbformat": 4,
 "nbformat_minor": 2
}
